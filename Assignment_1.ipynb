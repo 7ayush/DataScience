{
  "nbformat": 4,
  "nbformat_minor": 0,
  "metadata": {
    "colab": {
      "name": "Assignment-1.ipynb",
      "provenance": [],
      "authorship_tag": "ABX9TyMiRTZyjXb0stX2UW4eDa1P",
      "include_colab_link": true
    },
    "kernelspec": {
      "name": "python3",
      "display_name": "Python 3"
    },
    "language_info": {
      "name": "python"
    }
  },
  "cells": [
    {
      "cell_type": "markdown",
      "metadata": {
        "id": "view-in-github",
        "colab_type": "text"
      },
      "source": [
        "<a href=\"https://colab.research.google.com/github/7ayush/DataScience/blob/main/Assignment_1.ipynb\" target=\"_parent\"><img src=\"https://colab.research.google.com/assets/colab-badge.svg\" alt=\"Open In Colab\"/></a>"
      ]
    },
    {
      "cell_type": "code",
      "metadata": {
        "colab": {
          "base_uri": "https://localhost:8080/"
        },
        "id": "OLlPHGEOf_0Z",
        "outputId": "4e89a14c-3811-484d-e0ac-ddd6029a619c"
      },
      "source": [
        "s = \"Hi there Class!\"\n",
        "list=s.split();\n",
        "print(list);"
      ],
      "execution_count": 1,
      "outputs": [
        {
          "output_type": "stream",
          "text": [
            "['Hi', 'there', 'Class!']\n"
          ],
          "name": "stdout"
        }
      ]
    },
    {
      "cell_type": "code",
      "metadata": {
        "colab": {
          "base_uri": "https://localhost:8080/"
        },
        "id": "LEZs4T0Wgxs-",
        "outputId": "d1d7fbc5-9743-47fd-d55b-c846eb0ab6d3"
      },
      "source": [
        "planet = \"Earth\"\n",
        "diameter = 12742\n",
        "print(\"The diameter of \"+planet+\" is \"+str(diameter)+\" kilometers.\")"
      ],
      "execution_count": 20,
      "outputs": [
        {
          "output_type": "stream",
          "text": [
            "The diameter of Earth is 12742 kilometers.\n"
          ],
          "name": "stdout"
        }
      ]
    },
    {
      "cell_type": "code",
      "metadata": {
        "colab": {
          "base_uri": "https://localhost:8080/"
        },
        "id": "0Aojo9XthNOu",
        "outputId": "56cab2e3-7841-4fef-fd7f-fbefc3b68b43"
      },
      "source": [
        "lst = [1,2,[3,4],[5,[100,200,['hello']],23,11],1,7]\n",
        "print(lst[3][1][2][0]);"
      ],
      "execution_count": 7,
      "outputs": [
        {
          "output_type": "stream",
          "text": [
            "hello\n"
          ],
          "name": "stdout"
        }
      ]
    },
    {
      "cell_type": "code",
      "metadata": {
        "colab": {
          "base_uri": "https://localhost:8080/"
        },
        "id": "NrbR_gSOhzhj",
        "outputId": "a51b8ca0-403b-479a-8a18-5b499ff42ea5"
      },
      "source": [
        "mail=\"user@domain.com\"\n",
        "lst=(mail.split(\"@\"))\n",
        "print(\"www.\"+lst[1])"
      ],
      "execution_count": 17,
      "outputs": [
        {
          "output_type": "stream",
          "text": [
            "www.domain.com\n"
          ],
          "name": "stdout"
        }
      ]
    },
    {
      "cell_type": "code",
      "metadata": {
        "colab": {
          "base_uri": "https://localhost:8080/"
        },
        "id": "4qdO9h34iQJA",
        "outputId": "694c1a90-e6e0-4a53-fea6-0ce7dbd79064"
      },
      "source": [
        "d = {'k1':[1,2,3,{'tricky':['oh','man','inception',{'target':[1,2,3,'hello']}]}]}\n",
        "print(d['k1'][3]['tricky'][3]['target'][3])\n"
      ],
      "execution_count": 23,
      "outputs": [
        {
          "output_type": "stream",
          "text": [
            "hello\n"
          ],
          "name": "stdout"
        }
      ]
    },
    {
      "cell_type": "code",
      "metadata": {
        "colab": {
          "base_uri": "https://localhost:8080/"
        },
        "id": "9LKIKNxFkmuu",
        "outputId": "3e3f6dea-f732-4d5a-ae50-6566a890ed2f"
      },
      "source": [
        "def find(a,c):\n",
        "  if a.find(c)!=-1:\n",
        "    print(\"True\")\n",
        "  else:\n",
        "    print(\"False\")\n",
        "    \n",
        "a=\"I have a dog\"\n",
        "b=\"I have a cat\"\n",
        "c=\"dog\"\n",
        "find(a,c)\n",
        "find(b,c)"
      ],
      "execution_count": 25,
      "outputs": [
        {
          "output_type": "stream",
          "text": [
            "True\n",
            "False\n"
          ],
          "name": "stdout"
        }
      ]
    },
    {
      "cell_type": "code",
      "metadata": {
        "colab": {
          "base_uri": "https://localhost:8080/"
        },
        "id": "x5ShSrG9luXh",
        "outputId": "84de6e33-92e2-4825-992d-11a9e9bb472a"
      },
      "source": [
        "def count(a,c):\n",
        "  print(a.count(c))\n",
        "    \n",
        "a=\"I have a dog dog dog dog\"\n",
        "b=\"I have a cat dog \"\n",
        "d=\"I have a cat\"\n",
        "c=\"dog\"\n",
        "count(a,c)\n",
        "count(b,c)\n",
        "count(d,c)"
      ],
      "execution_count": 27,
      "outputs": [
        {
          "output_type": "stream",
          "text": [
            "4\n",
            "1\n",
            "0\n"
          ],
          "name": "stdout"
        }
      ]
    }
  ]
}